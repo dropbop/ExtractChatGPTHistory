import undetected_chromedriver as uc
from selenium.webdriver.common.by import By
import time

# Initialize undetected-chromedriver
options = uc.ChromeOptions()
options.add_argument("--no-first-run --no-service-autorun --password-store=basic")

# Start a new Chrome session with undetected-chromedriver
driver = uc.Chrome(options=options)

try:
    # Navigate to ChatGPT
    start_url = "https://chatgpt.com"
    driver.get(start_url)

    # Pause for manual login
    input("Log in to ChatGPT and navigate to the desired history screen, then press Enter to continue...")

    # File to save the chat history
    output_file = "chatgpt_chat_history.txt"

    # Find all history items (considering multiple sections like 'Today', 'Last Week', etc.)
    history_selector = 'li[data-testid^="history-item-"] a'
    history_links = driver.find_elements(By.CSS_SELECTOR, history_selector)

    # Extract all unique hrefs
    chat_urls = list(set(link.get_attribute("href") for link in history_links if link.get_attribute("href")))

    print(f"Found {len(chat_urls)} unique chats.")

    with open(output_file, "w", encoding="utf-8") as f:
        # Loop through each unique chat URL
        for idx, chat_url in enumerate(chat_urls, start=1):
            try:
                # Navigate to the chat URL
                driver.get(chat_url)
                time.sleep(3)  # Wait for the chat to load

                # Extract chat content
                messages_selector = "div.text-base.gap-4"  # Adjust if necessary
                messages = driver.find_elements(By.CSS_SELECTOR, messages_selector)

                # Write the chat content to the file
                f.write(f"\n--- Chat {idx} ---\n")
                for message in messages:
                    message_text = message.text.strip()
                    if message_text:
                        f.write(message_text + "\n")
                f.write("\n")  # Add extra space after each chat

                print(f"Extracted Chat {idx}/{len(chat_urls)}")
            except Exception as e:
                print(f"Error processing Chat {idx}: {e}")
                continue  # Skip to the next chat if there's an issue

    print(f"All chats have been saved to {output_file}.")
except Exception as e:
    print(f"An error occurred: {e}")
finally:
    input("Press Enter to close the connection (browser stays open).")
    driver.quit()
